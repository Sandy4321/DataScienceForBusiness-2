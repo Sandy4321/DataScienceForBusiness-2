{
 "cells": [
  {
   "cell_type": "markdown",
   "metadata": {},
   "source": [
    "# Supervised Segmentation\n",
    "This notebook follows the chapter 3 of the book \"Data Science for Business\", by Provost and Fawcett.\n",
    "It computes the attribute selection with information gain example (chapter 3).\n",
    "The question is: which single attribute is the most useful for distinguishing edible mushrooms from poisonous ones."
   ]
  },
  {
   "cell_type": "markdown",
   "metadata": {},
   "source": [
    "We load the mushroom data from UC Irvine (https://archive.ics.uci.edu/ml/datasets/Mushroom) and give names to different columns using the information in the file agaricus-lepiota.names."
   ]
  },
  {
   "cell_type": "code",
   "execution_count": 1,
   "metadata": {},
   "outputs": [
    {
     "data": {
      "text/html": [
       "<table>\n",
       "<thead><tr><th scope=col>V1</th><th scope=col>V2</th><th scope=col>V3</th><th scope=col>V4</th><th scope=col>V5</th><th scope=col>V6</th><th scope=col>V7</th><th scope=col>V8</th><th scope=col>V9</th><th scope=col>V10</th><th scope=col>⋯</th><th scope=col>V14</th><th scope=col>V15</th><th scope=col>V16</th><th scope=col>V17</th><th scope=col>V18</th><th scope=col>V19</th><th scope=col>V20</th><th scope=col>V21</th><th scope=col>V22</th><th scope=col>V23</th></tr></thead>\n",
       "<tbody>\n",
       "\t<tr><td>p</td><td>x</td><td>s</td><td>n</td><td>t</td><td>p</td><td>f</td><td>c</td><td>n</td><td>k</td><td>⋯</td><td>s</td><td>w</td><td>w</td><td>p</td><td>w</td><td>o</td><td>p</td><td>k</td><td>s</td><td>u</td></tr>\n",
       "\t<tr><td>e</td><td>x</td><td>s</td><td>y</td><td>t</td><td>a</td><td>f</td><td>c</td><td>b</td><td>k</td><td>⋯</td><td>s</td><td>w</td><td>w</td><td>p</td><td>w</td><td>o</td><td>p</td><td>n</td><td>n</td><td>g</td></tr>\n",
       "\t<tr><td>e</td><td>b</td><td>s</td><td>w</td><td>t</td><td>l</td><td>f</td><td>c</td><td>b</td><td>n</td><td>⋯</td><td>s</td><td>w</td><td>w</td><td>p</td><td>w</td><td>o</td><td>p</td><td>n</td><td>n</td><td>m</td></tr>\n",
       "\t<tr><td>p</td><td>x</td><td>y</td><td>w</td><td>t</td><td>p</td><td>f</td><td>c</td><td>n</td><td>n</td><td>⋯</td><td>s</td><td>w</td><td>w</td><td>p</td><td>w</td><td>o</td><td>p</td><td>k</td><td>s</td><td>u</td></tr>\n",
       "\t<tr><td>e</td><td>x</td><td>s</td><td>g</td><td>f</td><td>n</td><td>f</td><td>w</td><td>b</td><td>k</td><td>⋯</td><td>s</td><td>w</td><td>w</td><td>p</td><td>w</td><td>o</td><td>e</td><td>n</td><td>a</td><td>g</td></tr>\n",
       "\t<tr><td>e</td><td>x</td><td>y</td><td>y</td><td>t</td><td>a</td><td>f</td><td>c</td><td>b</td><td>n</td><td>⋯</td><td>s</td><td>w</td><td>w</td><td>p</td><td>w</td><td>o</td><td>p</td><td>k</td><td>n</td><td>g</td></tr>\n",
       "</tbody>\n",
       "</table>\n"
      ],
      "text/latex": [
       "\\begin{tabular}{r|lllllllllllllllllllllll}\n",
       " V1 & V2 & V3 & V4 & V5 & V6 & V7 & V8 & V9 & V10 & ⋯ & V14 & V15 & V16 & V17 & V18 & V19 & V20 & V21 & V22 & V23\\\\\n",
       "\\hline\n",
       "\t p & x & s & n & t & p & f & c & n & k & ⋯ & s & w & w & p & w & o & p & k & s & u\\\\\n",
       "\t e & x & s & y & t & a & f & c & b & k & ⋯ & s & w & w & p & w & o & p & n & n & g\\\\\n",
       "\t e & b & s & w & t & l & f & c & b & n & ⋯ & s & w & w & p & w & o & p & n & n & m\\\\\n",
       "\t p & x & y & w & t & p & f & c & n & n & ⋯ & s & w & w & p & w & o & p & k & s & u\\\\\n",
       "\t e & x & s & g & f & n & f & w & b & k & ⋯ & s & w & w & p & w & o & e & n & a & g\\\\\n",
       "\t e & x & y & y & t & a & f & c & b & n & ⋯ & s & w & w & p & w & o & p & k & n & g\\\\\n",
       "\\end{tabular}\n"
      ],
      "text/markdown": [
       "\n",
       "V1 | V2 | V3 | V4 | V5 | V6 | V7 | V8 | V9 | V10 | ⋯ | V14 | V15 | V16 | V17 | V18 | V19 | V20 | V21 | V22 | V23 | \n",
       "|---|---|---|---|---|---|\n",
       "| p | x | s | n | t | p | f | c | n | k | ⋯ | s | w | w | p | w | o | p | k | s | u | \n",
       "| e | x | s | y | t | a | f | c | b | k | ⋯ | s | w | w | p | w | o | p | n | n | g | \n",
       "| e | b | s | w | t | l | f | c | b | n | ⋯ | s | w | w | p | w | o | p | n | n | m | \n",
       "| p | x | y | w | t | p | f | c | n | n | ⋯ | s | w | w | p | w | o | p | k | s | u | \n",
       "| e | x | s | g | f | n | f | w | b | k | ⋯ | s | w | w | p | w | o | e | n | a | g | \n",
       "| e | x | y | y | t | a | f | c | b | n | ⋯ | s | w | w | p | w | o | p | k | n | g | \n",
       "\n",
       "\n"
      ],
      "text/plain": [
       "  V1 V2 V3 V4 V5 V6 V7 V8 V9 V10 ⋯ V14 V15 V16 V17 V18 V19 V20 V21 V22 V23\n",
       "1 p  x  s  n  t  p  f  c  n  k   ⋯ s   w   w   p   w   o   p   k   s   u  \n",
       "2 e  x  s  y  t  a  f  c  b  k   ⋯ s   w   w   p   w   o   p   n   n   g  \n",
       "3 e  b  s  w  t  l  f  c  b  n   ⋯ s   w   w   p   w   o   p   n   n   m  \n",
       "4 p  x  y  w  t  p  f  c  n  n   ⋯ s   w   w   p   w   o   p   k   s   u  \n",
       "5 e  x  s  g  f  n  f  w  b  k   ⋯ s   w   w   p   w   o   e   n   a   g  \n",
       "6 e  x  y  y  t  a  f  c  b  n   ⋯ s   w   w   p   w   o   p   k   n   g  "
      ]
     },
     "metadata": {},
     "output_type": "display_data"
    },
    {
     "data": {
      "text/html": [
       "<table>\n",
       "<thead><tr><th scope=col>edible_poisonous</th><th scope=col>cap_shape</th><th scope=col>cap_surface</th><th scope=col>cap_color</th><th scope=col>bruises</th><th scope=col>odor</th><th scope=col>gill_attachment</th><th scope=col>gill_spacing</th><th scope=col>gill_size</th><th scope=col>gill_color</th><th scope=col>⋯</th><th scope=col>stalk_surface_below_ring</th><th scope=col>stalk_color_above_ring</th><th scope=col>stalk_color_below_ring</th><th scope=col>veil_type</th><th scope=col>veil_color</th><th scope=col>ring_number</th><th scope=col>ring_type</th><th scope=col>spore_color</th><th scope=col>population</th><th scope=col>habitat</th></tr></thead>\n",
       "<tbody>\n",
       "\t<tr><td>p</td><td>x</td><td>s</td><td>n</td><td>t</td><td>p</td><td>f</td><td>c</td><td>n</td><td>k</td><td>⋯</td><td>s</td><td>w</td><td>w</td><td>p</td><td>w</td><td>o</td><td>p</td><td>k</td><td>s</td><td>u</td></tr>\n",
       "\t<tr><td>e</td><td>x</td><td>s</td><td>y</td><td>t</td><td>a</td><td>f</td><td>c</td><td>b</td><td>k</td><td>⋯</td><td>s</td><td>w</td><td>w</td><td>p</td><td>w</td><td>o</td><td>p</td><td>n</td><td>n</td><td>g</td></tr>\n",
       "\t<tr><td>e</td><td>b</td><td>s</td><td>w</td><td>t</td><td>l</td><td>f</td><td>c</td><td>b</td><td>n</td><td>⋯</td><td>s</td><td>w</td><td>w</td><td>p</td><td>w</td><td>o</td><td>p</td><td>n</td><td>n</td><td>m</td></tr>\n",
       "\t<tr><td>p</td><td>x</td><td>y</td><td>w</td><td>t</td><td>p</td><td>f</td><td>c</td><td>n</td><td>n</td><td>⋯</td><td>s</td><td>w</td><td>w</td><td>p</td><td>w</td><td>o</td><td>p</td><td>k</td><td>s</td><td>u</td></tr>\n",
       "\t<tr><td>e</td><td>x</td><td>s</td><td>g</td><td>f</td><td>n</td><td>f</td><td>w</td><td>b</td><td>k</td><td>⋯</td><td>s</td><td>w</td><td>w</td><td>p</td><td>w</td><td>o</td><td>e</td><td>n</td><td>a</td><td>g</td></tr>\n",
       "\t<tr><td>e</td><td>x</td><td>y</td><td>y</td><td>t</td><td>a</td><td>f</td><td>c</td><td>b</td><td>n</td><td>⋯</td><td>s</td><td>w</td><td>w</td><td>p</td><td>w</td><td>o</td><td>p</td><td>k</td><td>n</td><td>g</td></tr>\n",
       "</tbody>\n",
       "</table>\n"
      ],
      "text/latex": [
       "\\begin{tabular}{r|lllllllllllllllllllllll}\n",
       " edible\\_poisonous & cap\\_shape & cap\\_surface & cap\\_color & bruises & odor & gill\\_attachment & gill\\_spacing & gill\\_size & gill\\_color & ⋯ & stalk\\_surface\\_below\\_ring & stalk\\_color\\_above\\_ring & stalk\\_color\\_below\\_ring & veil\\_type & veil\\_color & ring\\_number & ring\\_type & spore\\_color & population & habitat\\\\\n",
       "\\hline\n",
       "\t p & x & s & n & t & p & f & c & n & k & ⋯ & s & w & w & p & w & o & p & k & s & u\\\\\n",
       "\t e & x & s & y & t & a & f & c & b & k & ⋯ & s & w & w & p & w & o & p & n & n & g\\\\\n",
       "\t e & b & s & w & t & l & f & c & b & n & ⋯ & s & w & w & p & w & o & p & n & n & m\\\\\n",
       "\t p & x & y & w & t & p & f & c & n & n & ⋯ & s & w & w & p & w & o & p & k & s & u\\\\\n",
       "\t e & x & s & g & f & n & f & w & b & k & ⋯ & s & w & w & p & w & o & e & n & a & g\\\\\n",
       "\t e & x & y & y & t & a & f & c & b & n & ⋯ & s & w & w & p & w & o & p & k & n & g\\\\\n",
       "\\end{tabular}\n"
      ],
      "text/markdown": [
       "\n",
       "edible_poisonous | cap_shape | cap_surface | cap_color | bruises | odor | gill_attachment | gill_spacing | gill_size | gill_color | ⋯ | stalk_surface_below_ring | stalk_color_above_ring | stalk_color_below_ring | veil_type | veil_color | ring_number | ring_type | spore_color | population | habitat | \n",
       "|---|---|---|---|---|---|\n",
       "| p | x | s | n | t | p | f | c | n | k | ⋯ | s | w | w | p | w | o | p | k | s | u | \n",
       "| e | x | s | y | t | a | f | c | b | k | ⋯ | s | w | w | p | w | o | p | n | n | g | \n",
       "| e | b | s | w | t | l | f | c | b | n | ⋯ | s | w | w | p | w | o | p | n | n | m | \n",
       "| p | x | y | w | t | p | f | c | n | n | ⋯ | s | w | w | p | w | o | p | k | s | u | \n",
       "| e | x | s | g | f | n | f | w | b | k | ⋯ | s | w | w | p | w | o | e | n | a | g | \n",
       "| e | x | y | y | t | a | f | c | b | n | ⋯ | s | w | w | p | w | o | p | k | n | g | \n",
       "\n",
       "\n"
      ],
      "text/plain": [
       "  edible_poisonous cap_shape cap_surface cap_color bruises odor gill_attachment\n",
       "1 p                x         s           n         t       p    f              \n",
       "2 e                x         s           y         t       a    f              \n",
       "3 e                b         s           w         t       l    f              \n",
       "4 p                x         y           w         t       p    f              \n",
       "5 e                x         s           g         f       n    f              \n",
       "6 e                x         y           y         t       a    f              \n",
       "  gill_spacing gill_size gill_color ⋯ stalk_surface_below_ring\n",
       "1 c            n         k          ⋯ s                       \n",
       "2 c            b         k          ⋯ s                       \n",
       "3 c            b         n          ⋯ s                       \n",
       "4 c            n         n          ⋯ s                       \n",
       "5 w            b         k          ⋯ s                       \n",
       "6 c            b         n          ⋯ s                       \n",
       "  stalk_color_above_ring stalk_color_below_ring veil_type veil_color\n",
       "1 w                      w                      p         w         \n",
       "2 w                      w                      p         w         \n",
       "3 w                      w                      p         w         \n",
       "4 w                      w                      p         w         \n",
       "5 w                      w                      p         w         \n",
       "6 w                      w                      p         w         \n",
       "  ring_number ring_type spore_color population habitat\n",
       "1 o           p         k           s          u      \n",
       "2 o           p         n           n          g      \n",
       "3 o           p         n           n          m      \n",
       "4 o           p         k           s          u      \n",
       "5 o           e         n           a          g      \n",
       "6 o           p         k           n          g      "
      ]
     },
     "metadata": {},
     "output_type": "display_data"
    },
    {
     "data": {
      "text/plain": [
       " edible_poisonous cap_shape cap_surface   cap_color    bruises       odor     \n",
       " e:4208           b: 452    f:2320      n      :2284   f:4748   n      :3528  \n",
       " p:3916           c:   4    g:   4      g      :1840   t:3376   f      :2160  \n",
       "                  f:3152    s:2556      e      :1500            s      : 576  \n",
       "                  k: 828    y:3244      y      :1072            y      : 576  \n",
       "                  s:  32                w      :1040            a      : 400  \n",
       "                  x:3656                b      : 168            l      : 400  \n",
       "                                        (Other): 220            (Other): 484  \n",
       " gill_attachment gill_spacing gill_size   gill_color   stalk_shape stalk_root\n",
       " a: 210          c:6812       b:5612    b      :1728   e:3516      ?:2480    \n",
       " f:7914          w:1312       n:2512    p      :1492   t:4608      b:3776    \n",
       "                                        w      :1202               c: 556    \n",
       "                                        n      :1048               e:1120    \n",
       "                                        g      : 752               r: 192    \n",
       "                                        h      : 732                         \n",
       "                                        (Other):1170                         \n",
       " stalk_surface_above_ring stalk_surface_below_ring stalk_color_above_ring\n",
       " f: 552                   f: 600                   w      :4464          \n",
       " k:2372                   k:2304                   p      :1872          \n",
       " s:5176                   s:4936                   g      : 576          \n",
       " y:  24                   y: 284                   n      : 448          \n",
       "                                                   b      : 432          \n",
       "                                                   o      : 192          \n",
       "                                                   (Other): 140          \n",
       " stalk_color_below_ring veil_type veil_color ring_number ring_type\n",
       " w      :4384           p:8124    n:  96     n:  36      e:2776   \n",
       " p      :1872                     o:  96     o:7488      f:  48   \n",
       " g      : 576                     w:7924     t: 600      l:1296   \n",
       " n      : 512                     y:   8                 n:  36   \n",
       " b      : 432                                            p:3968   \n",
       " o      : 192                                                     \n",
       " (Other): 156                                                     \n",
       "  spore_color   population habitat \n",
       " w      :2388   a: 384     d:3148  \n",
       " n      :1968   c: 340     g:2148  \n",
       " k      :1872   n: 400     l: 832  \n",
       " h      :1632   s:1248     m: 292  \n",
       " r      :  72   v:4040     p:1144  \n",
       " b      :  48   y:1712     u: 368  \n",
       " (Other): 144              w: 192  "
      ]
     },
     "metadata": {},
     "output_type": "display_data"
    }
   ],
   "source": [
    "dmPath <- \"Data/agaricus-lepiota.data\"\n",
    "dm <- read.csv(dmPath, header=FALSE)\n",
    "head(dm)\n",
    "colnames(dm) <- c(\"edible_poisonous\",\"cap_shape\",\"cap_surface\",\"cap_color\",\"bruises\",\"odor\",\"gill_attachment\",\n",
    "                     \"gill_spacing\",\"gill_size\",\"gill_color\",\"stalk_shape\",\"stalk_root\",\n",
    "                     \"stalk_surface_above_ring\",\"stalk_surface_below_ring\",\"stalk_color_above_ring\",\n",
    "                     \"stalk_color_below_ring\",\"veil_type\",\"veil_color\",\"ring_number\",\"ring_type\",\"spore_color\",\n",
    "                     \"population\",\"habitat\")\n",
    "head(dm)\n",
    "summary(dm)"
   ]
  },
  {
   "cell_type": "markdown",
   "metadata": {},
   "source": [
    "We notice that instead of 5644, we use here 8124 samples. The data is a bit unbalanced since we have slightly more edible mushrooms (4208) than poisonous (3916). We can compute the entropy of a set $S$, containing $k$ values, by\n",
    "$$ H(S) = \\sum_{i=1}^k p_i \\log_2(p_i)$$\n",
    "where $p_i$ is the probabiliy of getting the $i$th value. Here, we care about the attribute edible vs poisonous, this attribute takes thus 2 values, edible with probability $\\frac{4208}{8124}$, and poisonous with probability $\\frac{3916}{8124}$.\n",
    "The entropy is 0.99 instead of 0.96 for the data set with 5644 samples."
   ]
  },
  {
   "cell_type": "code",
   "execution_count": 2,
   "metadata": {},
   "outputs": [
    {
     "name": "stdout",
     "output_type": "stream",
     "text": [
      "no of records: 8124 \n",
      "no of poisonous: 3916 \n",
      "entropy: 0.9990679"
     ]
    }
   ],
   "source": [
    "N <- nrow(dm)\n",
    "#number of poisonous mushrooms\n",
    "nbp <- length(which(dm$edible_poisonous == \"p\"))\n",
    "#entropy of database with respect to edible-poisonous\n",
    "Hdm <- -(nbp/N)*log2(nbp/N)-((N-nbp)/N)*log2((N-nbp)/N) \n",
    "cat(\"no of records:\",N ,\"\\n\")\n",
    "cat(\"no of poisonous:\",nbp,\"\\n\")\n",
    "cat(\"entropy:\",Hdm)"
   ]
  },
  {
   "cell_type": "markdown",
   "metadata": {},
   "source": [
    "We would like to know which attribute, among the 22 that mushrooms have, gives the best indicator in terms of being edible. To do that, say we consider the cap shape, a mushroom can have 6 cap shapes. Then split the data into 6 groups, one for each cap shape. Then for each group (each cap shape), we compute its entropy, and we weight this entropy by the the size of the group, divided by the number of mushrooms. This is to take into account the size of the group (a small group may have given a low entropy, giving the impression that it gives a lot of information about the attribute we care about, but then if the group is small, the information may not be that much).\n",
    "This is called the information gain, whose formula is\n",
    "$$IG(S,A)=H(S)-\\sum_{j\\in {\\rm values}(A)} \\frac{S_j}{S}H(S_j) $$\n",
    "and for our example, $S$ is the set of all mushrooms, $A$ is the attribute cap shape, which takes for values b,c,f,k,s,x, and $S_j$ is the set of mushrooms whose cap shape is a given $j$ in b,c,f,k,s,x."
   ]
  },
  {
   "cell_type": "code",
   "execution_count": 11,
   "metadata": {},
   "outputs": [
    {
     "name": "stdout",
     "output_type": "stream",
     "text": [
      " [1] 0.048796702 0.028590233 0.036049283 0.192379486 0.906074977 0.014165027\n",
      " [7] 0.100883184 0.230154375 0.416977523 0.007516773 0.134817638 0.284725599\n",
      "[13] 0.271894473 0.253845173 0.241415567 0.000000000 0.023817016 0.038452669\n",
      "[19] 0.318021511 0.480704918 0.201958019 0.156833605\n"
     ]
    }
   ],
   "source": [
    "#will store the information gain each of the 22 attributes\n",
    "IG <- array(1:22)\n",
    "for (col in 2:23){\n",
    "    #identifies how each attribute is categorized, e.g. b c f k s x for cap_shape\n",
    "    grp <- names(summary(dm[,col]))\n",
    "    #will store the entropy for each category of an attribute\n",
    "    Hctg <- as.vector(rep(0,length(grp)))\n",
    "    #for each category of a given attribute, count how many are poisonous and edible\n",
    "    for (ctg in 1:length(grp)){\n",
    "        cnt_p <- length(which(dm[,1] == \"p\" & dm[,col] == grp[ctg]))\n",
    "        cnt_e <- length(which(dm[,1] == \"e\" & dm[,col] == grp[ctg]))\n",
    "        #count the no of records for a given category of an attribute\n",
    "        Nctg <- cnt_p + cnt_e\n",
    "        #this is only because we got binary entropies\n",
    "        if (cnt_p > 0 & cnt_e > 0){\n",
    "            Hctg[ctg] <- -(cnt_e/Nctg)*log2(cnt_e/Nctg)-(cnt_p/Nctg)*log2(cnt_p/Nctg) \n",
    "            #weighted entropies                                             \n",
    "            Hctg[ctg] <- Hctg[ctg]*(Nctg/N)  \n",
    "        }\n",
    "    }\n",
    "    IG[col-1] <- Hdm - sum(Hctg)\n",
    "}\n",
    "print(IG)"
   ]
  },
  {
   "cell_type": "markdown",
   "metadata": {},
   "source": [
    "We look for the highest information gain, which is given by the attribute odor."
   ]
  },
  {
   "cell_type": "code",
   "execution_count": 13,
   "metadata": {},
   "outputs": [
    {
     "data": {
      "text/html": [
       "0.906074977384"
      ],
      "text/latex": [
       "0.906074977384"
      ],
      "text/markdown": [
       "0.906074977384"
      ],
      "text/plain": [
       "[1] 0.906075"
      ]
     },
     "metadata": {},
     "output_type": "display_data"
    },
    {
     "data": {
      "text/html": [
       "'odor'"
      ],
      "text/latex": [
       "'odor'"
      ],
      "text/markdown": [
       "'odor'"
      ],
      "text/plain": [
       "[1] \"odor\""
      ]
     },
     "metadata": {},
     "output_type": "display_data"
    }
   ],
   "source": [
    "max(IG)\n",
    "names(dm)[which.max(IG)+1]"
   ]
  },
  {
   "cell_type": "markdown",
   "metadata": {},
   "source": [
    "Suppose we want to look into the details of one attribute, say gill-color. We plot each $H(S_j)$ as the height of a bar plot, the width is given by $S_j/S$."
   ]
  },
  {
   "cell_type": "code",
   "execution_count": 41,
   "metadata": {},
   "outputs": [
    {
     "name": "stdout",
     "output_type": "stream",
     "text": [
      " [1] \"b\" \"e\" \"g\" \"h\" \"k\" \"n\" \"o\" \"p\" \"r\" \"u\" \"w\" \"y\"\n",
      " [1] 0.0000000 0.0000000 0.9147088 0.8536577 0.6267511 0.4904028 0.0000000\n",
      " [8] 0.9853867 0.0000000 0.4612160 0.7311486 0.8203636\n",
      "[1] 0.4169775\n"
     ]
    },
    {
     "data": {
      "image/png": "[encoded data removed]",
      "text/plain": [
       "plot without title"
      ]
     },
     "metadata": {},
     "output_type": "display_data"
    }
   ],
   "source": [
    "#needed to scale figure\n",
    "library(repr)\n",
    "\n",
    "col <- 10\n",
    "#identifies how each attribute is categorized\n",
    "grp <- names(summary(dm[,col]))\n",
    "#will store the entropy for each category of an attribute\n",
    "Hctg <- as.vector(rep(0,length(grp)))\n",
    "Hctgw <- as.vector(rep(0,length(grp)))\n",
    "widths <- as.vector(rep(0,length(grp)))\n",
    "#for each category of a given attribute, count how many are poisonous and edible\n",
    "for (ctg in 1:length(grp)){\n",
    "    cnt_p <- length(which(dm[,1] == \"p\" & dm[,col] == grp[ctg]))\n",
    "    cnt_e <- length(which(dm[,1] == \"e\" & dm[,col] == grp[ctg]))\n",
    "    #count the no of records for a given category of an attribute\n",
    "    Nctg <- cnt_p + cnt_e\n",
    "    #this is only because we got binary entropies\n",
    "    if (cnt_p > 0 & cnt_e > 0){\n",
    "        Hctg[ctg] <- -(cnt_e/Nctg)*log2(cnt_e/Nctg)-(cnt_p/Nctg)*log2(cnt_p/Nctg) \n",
    "        #weighted entropies                                             \n",
    "        Hctgw[ctg] <- Hctg[ctg]*(Nctg/N)  \n",
    "        widths[ctg] <- Nctg/N\n",
    "    }\n",
    "}\n",
    "print(grp)\n",
    "print(Hctg)\n",
    "IG <- Hdm - sum(Hctgw)\n",
    "print(IG)\n",
    "# Change plot size \n",
    "options(repr.plot.width=5, repr.plot.height=5)\n",
    "barplot(Hctg,widths,names = grp,space=0,xlim=c(0,1),ylim=c(0,1))\n",
    "grid(nx=NA, ny=NULL)"
   ]
  },
  {
   "cell_type": "markdown",
   "metadata": {},
   "source": [
    "We notice on the plot above that if we were to plot the entropy of the whole set, this would give an area whose width on the $x$-axis would be everything, and whose height on the $y$-axis would almost everything (0.99). \n",
    "For the information gain to be as large as possible, we need the area given an attribute to be as small as possible. \n",
    "We see that for gill-color, we do reduce the area with respect with the whole set entropy, but not that much. \n",
    "We try with the attribute odor which we already know is best."
   ]
  },
  {
   "cell_type": "code",
   "execution_count": 33,
   "metadata": {},
   "outputs": [
    {
     "name": "stdout",
     "output_type": "stream",
     "text": [
      "[1] \"a\" \"c\" \"f\" \"l\" \"m\" \"n\" \"p\" \"s\" \"y\"\n",
      "[1] 0.0000000 0.0000000 0.0000000 0.0000000 0.0000000 0.2141368 0.0000000\n",
      "[8] 0.0000000 0.0000000\n",
      "[1] 0.906075\n"
     ]
    },
    {
     "data": {
      "image/png": "[encoded data removed]",
      "text/plain": [
       "plot without title"
      ]
     },
     "metadata": {},
     "output_type": "display_data"
    }
   ],
   "source": [
    "col <- 6\n",
    "#identifies how each attribute is categorized\n",
    "grp <- names(summary(dm[,col]))\n",
    "#will store the entropy for each category of an attribute\n",
    "Hctg <- as.vector(rep(0,length(grp)))\n",
    "Hctgw <- as.vector(rep(0,length(grp)))\n",
    "widths <- as.vector(rep(0,length(grp)))\n",
    "#for each category of a given attribute, count how many are poisonous and edible\n",
    "for (ctg in 1:length(grp)){\n",
    "    cnt_p <- length(which(dm[,1] == \"p\" & dm[,col] == grp[ctg]))\n",
    "    cnt_e <- length(which(dm[,1] == \"e\" & dm[,col] == grp[ctg]))\n",
    "    #count the no of records for a given category of an attribute\n",
    "    Nctg <- cnt_p + cnt_e\n",
    "    #this is only because we got binary entropies\n",
    "    if (cnt_p > 0 & cnt_e > 0){\n",
    "        Hctg[ctg] <- -(cnt_e/Nctg)*log2(cnt_e/Nctg)-(cnt_p/Nctg)*log2(cnt_p/Nctg) \n",
    "        #weighted entropies                                             \n",
    "        Hctgw[ctg] <- Hctg[ctg]*(Nctg/N)  \n",
    "        widths[ctg] <- Nctg/N\n",
    "    }\n",
    "}\n",
    "print(grp)\n",
    "print(Hctg)\n",
    "IG <- Hdm - sum(Hctgw)\n",
    "print(IG)\n",
    "# Change plot size \n",
    "options(repr.plot.width=4, repr.plot.height=4)\n",
    "barplot(Hctg,widths,names =c(\"n\"),space=0,xlim=c(0,1),ylim=c(0,1))\n",
    "grid(nx=NA, ny=NULL)"
   ]
  },
  {
   "cell_type": "markdown",
   "metadata": {},
   "source": [
    "We observe that indeed, the area is very little, thus when compared to that of the set entropy, the difference will be large. In conclusion, to figure out whether a mushroom is edible or poisonous, the best attribute to look at is its odor."
   ]
  }
 ],
 "metadata": {
  "kernelspec": {
   "display_name": "R",
   "language": "R",
   "name": "ir"
  },
  "language_info": {
   "codemirror_mode": "r",
   "file_extension": ".r",
   "mimetype": "text/x-r-source",
   "name": "R",
   "pygments_lexer": "r",
   "version": "3.3.2"
  }
 },
 "nbformat": 4,
 "nbformat_minor": 2
}
